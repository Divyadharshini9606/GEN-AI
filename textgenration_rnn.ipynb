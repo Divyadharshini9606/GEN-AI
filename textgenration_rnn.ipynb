{
  "nbformat": 4,
  "nbformat_minor": 0,
  "metadata": {
    "colab": {
      "provenance": []
    },
    "kernelspec": {
      "name": "python3",
      "display_name": "Python 3"
    },
    "language_info": {
      "name": "python"
    }
  },
  "cells": [
    {
      "cell_type": "code",
      "execution_count": 1,
      "metadata": {
        "id": "1VYCn8JcLVJw"
      },
      "outputs": [],
      "source": [
        "import numpy as np\n",
        "import tensorflow as tf\n",
        "from tensorflow.keras.models import Sequential\n",
        "from tensorflow.keras.layers import SimpleRNN, Dense, Embedding\n",
        "from tensorflow.keras.preprocessing.sequence import pad_sequences\n",
        "import gradio as gr"
      ]
    },
    {
      "cell_type": "code",
      "source": [
        "# --- Step 1: Text Data ---\n",
        "text = \"\"\"hello how are you doing today hello how are you feeling hello i am fine thank you hello how can i help you today\"\"\"\n",
        "\n",
        "words = text.split()\n",
        "vocab = sorted(set(words))\n",
        "word_index = {w: i+1 for i, w in enumerate(vocab)}  # word to index\n",
        "index_word = {i+1: w for i, w in enumerate(vocab)}  # index to word\n",
        "vocab_size = len(vocab) + 1\n",
        "\n",
        "# --- Step 2: Prepare sequences ---\n",
        "sequences = []\n",
        "for i in range(3, len(words)):\n",
        "    seq = words[i-3:i+1]\n",
        "    encoded = [word_index[w] for w in seq]\n",
        "    sequences.append(encoded)\n",
        "\n",
        "sequences = np.array(sequences)\n",
        "x, y = sequences[:, :-1], sequences[:, -1]\n",
        "x = pad_sequences(x, maxlen=3)\n",
        "\n",
        "# --- Step 3: Build the RNN Model ---\n",
        "model = Sequential([\n",
        "    Embedding(input_dim=vocab_size, output_dim=10, input_length=3),\n",
        "    SimpleRNN(50, activation='relu'),\n",
        "    Dense(vocab_size, activation='softmax')\n",
        "])\n",
        "\n",
        "model.compile(loss='sparse_categorical_crossentropy', optimizer='adam', metrics=['accuracy'])\n",
        "model.fit(x, y, epochs=300, verbose=0)"
      ],
      "metadata": {
        "colab": {
          "base_uri": "https://localhost:8080/"
        },
        "id": "b9jfi3nyLbk0",
        "outputId": "61ce57b1-e66c-48f3-c70b-3339ef23dba0"
      },
      "execution_count": 2,
      "outputs": [
        {
          "output_type": "stream",
          "name": "stderr",
          "text": [
            "/usr/local/lib/python3.11/dist-packages/keras/src/layers/core/embedding.py:90: UserWarning: Argument `input_length` is deprecated. Just remove it.\n",
            "  warnings.warn(\n"
          ]
        },
        {
          "output_type": "execute_result",
          "data": {
            "text/plain": [
              "<keras.src.callbacks.history.History at 0x7d03e8251590>"
            ]
          },
          "metadata": {},
          "execution_count": 2
        }
      ]
    },
    {
      "cell_type": "code",
      "source": [
        "import pickle\n",
        "\n",
        "with open('/content/drive/MyDrive/Divya/textgen.pkl', 'wb') as file:\n",
        "    pickle.dump(model,file)"
      ],
      "metadata": {
        "id": "3fJdQna_Lil7"
      },
      "execution_count": 3,
      "outputs": []
    },
    {
      "cell_type": "code",
      "source": [
        "with open('/content/drive/MyDrive/Divya/textgen.pkl', 'rb') as f:\n",
        "    loaded_model = pickle.load(f)"
      ],
      "metadata": {
        "id": "0kN2mZsMLmSg"
      },
      "execution_count": 4,
      "outputs": []
    },
    {
      "cell_type": "code",
      "source": [
        "# --- Step 4: Text Generation Function ---\n",
        "def generate_text(seed_text, next_words=5):\n",
        "    for _ in range(next_words):\n",
        "        token_list = [word_index.get(w, 0) for w in seed_text.split()]\n",
        "        token_list = pad_sequences([token_list], maxlen=3)\n",
        "        predicted = model.predict(token_list, verbose=0)\n",
        "        predicted_word = index_word[np.argmax(predicted)]\n",
        "        seed_text += ' ' + predicted_word\n",
        "    return seed_text\n",
        "\n",
        "# --- Step 5: Gradio Interface ---\n",
        "def gradio_interface(seed_text, num_words):\n",
        "    return generate_text(seed_text, next_words=num_words)\n",
        "\n",
        "demo = gr.Interface(\n",
        "    fn=gradio_interface,\n",
        "    inputs=[\n",
        "        gr.Textbox(label=\"Enter Seed Text (e.g., 'hello how are')\"),\n",
        "        gr.Slider(1, 20, value=5, step=1, label=\"Number of Words to Generate\")\n",
        "    ],\n",
        "    outputs=\"text\",\n",
        "    title=\"Text Generation using RNN\",\n",
        "    description=\"Enter initial words and generate text using a simple RNN.\"\n",
        ")\n",
        "\n",
        "# Launch app\n",
        "demo.launch()\n"
      ],
      "metadata": {
        "colab": {
          "base_uri": "https://localhost:8080/",
          "height": 646
        },
        "id": "Ltajz2OXLfUF",
        "outputId": "343ee1c6-4f8c-4aa5-c7d4-e7697eb3dc9d"
      },
      "execution_count": 5,
      "outputs": [
        {
          "output_type": "stream",
          "name": "stdout",
          "text": [
            "It looks like you are running Gradio on a hosted a Jupyter notebook. For the Gradio app to work, sharing must be enabled. Automatically setting `share=True` (you can turn this off by setting `share=False` in `launch()` explicitly).\n",
            "\n",
            "Colab notebook detected. To show errors in colab notebook, set debug=True in launch()\n",
            "* Running on public URL: https://330b26a7204e472e4e.gradio.live\n",
            "\n",
            "This share link expires in 1 week. For free permanent hosting and GPU upgrades, run `gradio deploy` from the terminal in the working directory to deploy to Hugging Face Spaces (https://huggingface.co/spaces)\n"
          ]
        },
        {
          "output_type": "display_data",
          "data": {
            "text/plain": [
              "<IPython.core.display.HTML object>"
            ],
            "text/html": [
              "<div><iframe src=\"https://330b26a7204e472e4e.gradio.live\" width=\"100%\" height=\"500\" allow=\"autoplay; camera; microphone; clipboard-read; clipboard-write;\" frameborder=\"0\" allowfullscreen></iframe></div>"
            ]
          },
          "metadata": {}
        },
        {
          "output_type": "execute_result",
          "data": {
            "text/plain": []
          },
          "metadata": {},
          "execution_count": 5
        }
      ]
    }
  ]
}