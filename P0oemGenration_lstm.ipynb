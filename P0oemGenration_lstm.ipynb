{
  "nbformat": 4,
  "nbformat_minor": 0,
  "metadata": {
    "colab": {
      "provenance": []
    },
    "kernelspec": {
      "name": "python3",
      "display_name": "Python 3"
    },
    "language_info": {
      "name": "python"
    }
  },
  "cells": [
    {
      "cell_type": "code",
      "execution_count": 1,
      "metadata": {
        "id": "ymPURp2mPNd9"
      },
      "outputs": [],
      "source": [
        "import numpy as np\n",
        "from tensorflow.keras.models import Sequential\n",
        "from tensorflow.keras.layers import LSTM, Dense\n",
        "from tensorflow.keras.utils import to_categorical\n",
        "from tensorflow.keras.preprocessing.sequence import pad_sequences\n",
        "import gradio as gr"
      ]
    },
    {
      "cell_type": "code",
      "source": [
        "# Step 1: Sample Poem Text (you can load from .txt too)\n",
        "with open(\"/content/drive/MyDrive/Divya/poem.txt\", \"r\") as file:\n",
        "    poem = file.read().lower()\n",
        "import re\n",
        "poem = re.sub(r'[^a-z \\n]', '', poem.lower())\n",
        "\n",
        "# Step 2: Character Tokenization\n",
        "chars = sorted(set(poem))\n",
        "char_to_index = {c: i for i, c in enumerate(chars)}\n",
        "index_to_char = {i: c for c, i in char_to_index.items()}\n",
        "vocab_size = len(chars)\n",
        "\n",
        "# Create input-output pairs\n",
        "sequence_length = 10\n",
        "sequences = []\n",
        "targets = []\n",
        "\n",
        "for i in range(len(poem) - sequence_length):\n",
        "    seq = poem[i:i+sequence_length]\n",
        "    target = poem[i+sequence_length]\n",
        "    sequences.append([char_to_index[c] for c in seq])\n",
        "    targets.append(char_to_index[target])\n",
        "\n",
        "x = np.array(sequences)\n",
        "y = to_categorical(targets, num_classes=vocab_size)\n",
        "x = x.reshape((x.shape[0], x.shape[1], 1))  # shape: (samples, time_steps, features)\n",
        "\n",
        "# Step 3: Build LSTM Model\n",
        "model = Sequential()\n",
        "model.add(LSTM(128, activation='relu', input_shape=(sequence_length, 1)))\n",
        "model.add(Dense(vocab_size, activation='softmax'))\n",
        "model.compile(optimizer='adam', loss='categorical_crossentropy')\n",
        "model.fit(x, y, epochs=300, verbose=0)"
      ],
      "metadata": {
        "colab": {
          "base_uri": "https://localhost:8080/"
        },
        "id": "mPPvxIJcPedx",
        "outputId": "baa13f97-5158-45db-b763-960b1b10a6b0"
      },
      "execution_count": 10,
      "outputs": [
        {
          "output_type": "stream",
          "name": "stderr",
          "text": [
            "/usr/local/lib/python3.11/dist-packages/keras/src/layers/rnn/rnn.py:200: UserWarning: Do not pass an `input_shape`/`input_dim` argument to a layer. When using Sequential models, prefer using an `Input(shape)` object as the first layer in the model instead.\n",
            "  super().__init__(**kwargs)\n"
          ]
        },
        {
          "output_type": "execute_result",
          "data": {
            "text/plain": [
              "<keras.src.callbacks.history.History at 0x79e406b96150>"
            ]
          },
          "metadata": {},
          "execution_count": 10
        }
      ]
    },
    {
      "cell_type": "code",
      "source": [
        "import pickle\n",
        "\n",
        "with open('/content/drive/MyDrive/Divya/poemgen.pkl', 'wb') as file:\n",
        "    pickle.dump(model,file)"
      ],
      "metadata": {
        "id": "MliYeK2LPkQV"
      },
      "execution_count": 11,
      "outputs": []
    },
    {
      "cell_type": "code",
      "source": [
        "with open('/content/drive/MyDrive/Divya/poemgen.pkl', 'rb') as f:\n",
        "    loaded_model = pickle.load(f)"
      ],
      "metadata": {
        "id": "1oqDsAMyPm1s"
      },
      "execution_count": 12,
      "outputs": []
    },
    {
      "cell_type": "code",
      "source": [
        "# Step 4: Text Generation Function\n",
        "def generate_poem(seed, num_chars):\n",
        "    result = seed\n",
        "    for _ in range(num_chars):\n",
        "        input_seq = [char_to_index.get(c, 0) for c in seed[-sequence_length:]]\n",
        "        input_seq = pad_sequences([input_seq], maxlen=sequence_length)\n",
        "        input_seq = np.reshape(input_seq, (1, sequence_length, 1))\n",
        "        predicted_probs = model.predict(input_seq, verbose=0)\n",
        "        predicted_index = np.argmax(predicted_probs)\n",
        "        predicted_char = index_to_char[predicted_index]\n",
        "        result += predicted_char\n",
        "        seed += predicted_char\n",
        "    return result\n",
        "\n",
        "# Step 5: Gradio App\n",
        "demo = gr.Interface(\n",
        "    fn=generate_poem,\n",
        "    inputs=[\n",
        "        gr.Textbox(label=\"Seed Text\", value=\"roses are \"),\n",
        "        gr.Slider(10, 100, value=50, step=1, label=\"Number of Characters to Generate\")\n",
        "    ],\n",
        "    outputs=\"text\",\n",
        "    title=\"Poem Generator using LSTM (Character-Level)\",\n",
        "    description=\"Enter a starting phrase and let the model generate poetic text character by character.\"\n",
        ")\n",
        "\n",
        "demo.launch()"
      ],
      "metadata": {
        "colab": {
          "base_uri": "https://localhost:8080/",
          "height": 646
        },
        "id": "3ugkO-3aPjTG",
        "outputId": "52b08f4c-7702-48e4-9385-5c40c4af2a6f"
      },
      "execution_count": 13,
      "outputs": [
        {
          "output_type": "stream",
          "name": "stdout",
          "text": [
            "It looks like you are running Gradio on a hosted a Jupyter notebook. For the Gradio app to work, sharing must be enabled. Automatically setting `share=True` (you can turn this off by setting `share=False` in `launch()` explicitly).\n",
            "\n",
            "Colab notebook detected. To show errors in colab notebook, set debug=True in launch()\n",
            "* Running on public URL: https://54b7eb73edcdd8ee18.gradio.live\n",
            "\n",
            "This share link expires in 1 week. For free permanent hosting and GPU upgrades, run `gradio deploy` from the terminal in the working directory to deploy to Hugging Face Spaces (https://huggingface.co/spaces)\n"
          ]
        },
        {
          "output_type": "display_data",
          "data": {
            "text/plain": [
              "<IPython.core.display.HTML object>"
            ],
            "text/html": [
              "<div><iframe src=\"https://54b7eb73edcdd8ee18.gradio.live\" width=\"100%\" height=\"500\" allow=\"autoplay; camera; microphone; clipboard-read; clipboard-write;\" frameborder=\"0\" allowfullscreen></iframe></div>"
            ]
          },
          "metadata": {}
        },
        {
          "output_type": "execute_result",
          "data": {
            "text/plain": []
          },
          "metadata": {},
          "execution_count": 13
        }
      ]
    }
  ]
}