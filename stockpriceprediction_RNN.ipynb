{
  "nbformat": 4,
  "nbformat_minor": 0,
  "metadata": {
    "colab": {
      "provenance": []
    },
    "kernelspec": {
      "name": "python3",
      "display_name": "Python 3"
    },
    "language_info": {
      "name": "python"
    }
  },
  "cells": [
    {
      "cell_type": "code",
      "source": [
        "import numpy as np\n",
        "import tensorflow as tf\n",
        "from tensorflow.keras.models import Sequential\n",
        "from tensorflow.keras.layers import SimpleRNN, Dense\n",
        "import gradio as gr\n",
        "\n",
        "# 1. Generate dummy data\n",
        "def generate_dummy_data():\n",
        "    x = np.linspace(0, 100, 500)\n",
        "    y = np.sin(x / 5) + np.random.normal(scale=0.1, size=len(x))\n",
        "    return y\n",
        "\n",
        "data = generate_dummy_data()"
      ],
      "metadata": {
        "id": "j0wBRchon-6E"
      },
      "execution_count": 9,
      "outputs": []
    },
    {
      "cell_type": "code",
      "source": [
        "# 2. Prepare dataset (with time_steps = 5)\n",
        "def create_dataset(data, time_steps=5):  # 👈 changed from 10 to 5\n",
        "    X, y = [], []\n",
        "    for i in range(len(data) - time_steps):\n",
        "        X.append(data[i:i + time_steps])\n",
        "        y.append(data[i + time_steps])\n",
        "    return np.array(X), np.array(y)\n",
        "\n",
        "X, y = create_dataset(data)\n",
        "X = X.reshape((X.shape[0], X.shape[1], 1))\n"
      ],
      "metadata": {
        "id": "igHQ4Jj6oJ9h"
      },
      "execution_count": 10,
      "outputs": []
    },
    {
      "cell_type": "code",
      "source": [
        "# 3. Build model for input shape (5, 1)\n",
        "model = Sequential([\n",
        "    SimpleRNN(50, activation='relu', input_shape=(5, 1)),  # 👈 changed from (10, 1) to (5, 1)\n",
        "    Dense(1)\n",
        "])\n",
        "model.compile(optimizer='adam', loss='mse')\n",
        "model.fit(X, y, epochs=10, verbose=0)\n",
        "\n"
      ],
      "metadata": {
        "colab": {
          "base_uri": "https://localhost:8080/"
        },
        "id": "aDO6KqPeoHRP",
        "outputId": "f615e7e6-b79a-4e56-a996-63dbff100389"
      },
      "execution_count": 11,
      "outputs": [
        {
          "output_type": "stream",
          "name": "stderr",
          "text": [
            "/usr/local/lib/python3.11/dist-packages/keras/src/layers/rnn/rnn.py:200: UserWarning: Do not pass an `input_shape`/`input_dim` argument to a layer. When using Sequential models, prefer using an `Input(shape)` object as the first layer in the model instead.\n",
            "  super().__init__(**kwargs)\n"
          ]
        },
        {
          "output_type": "execute_result",
          "data": {
            "text/plain": [
              "<keras.src.callbacks.history.History at 0x78e6a38b0310>"
            ]
          },
          "metadata": {},
          "execution_count": 11
        }
      ]
    },
    {
      "cell_type": "code",
      "source": [
        "import pickle\n",
        "\n",
        "with open('/content/drive/MyDrive/Divya/stock.pkl', 'wb') as file:\n",
        "    pickle.dump(model,file)"
      ],
      "metadata": {
        "id": "a-gWQxP1oZKs"
      },
      "execution_count": 13,
      "outputs": []
    },
    {
      "cell_type": "code",
      "source": [
        "with open('/content/drive/MyDrive/Divya/stock.pkl', 'rb') as f:\n",
        "    loaded_model = pickle.load(f)"
      ],
      "metadata": {
        "id": "UcCJcoBEodcf"
      },
      "execution_count": 14,
      "outputs": []
    },
    {
      "cell_type": "code",
      "source": [
        "# 4. Predict function\n",
        "def predict_next_price(seq):\n",
        "    try:\n",
        "        seq = [float(i.strip()) for i in seq.split(',')]\n",
        "        if len(seq) != 5:  # 👈 only 5 numbers expected now\n",
        "            return \"Please enter exactly 5 numbers.\"\n",
        "\n",
        "        input_seq = np.array(seq).reshape((1, 5, 1))  # 👈 reshape accordingly\n",
        "        pred = model.predict(input_seq)\n",
        "        return f\"📈 Predicted next price: {pred[0][0]:.4f}\"\n",
        "    except Exception as e:\n",
        "        return f\"Error: {str(e)}\"\n",
        "\n",
        "# 5. Gradio UI\n",
        "iface = gr.Interface(\n",
        "    fn=predict_next_price,\n",
        "    inputs=gr.Textbox(lines=2, placeholder=\"Enter 5 stock prices, comma-separated\"),\n",
        "    outputs=\"text\",\n",
        "    title=\"📊 Stock Price Predictor (RNN)\",\n",
        "    description=\"Enter 5 stock prices to predict the next one.\"\n",
        ")\n",
        "\n",
        "iface.launch()\n"
      ],
      "metadata": {
        "colab": {
          "base_uri": "https://localhost:8080/",
          "height": 646
        },
        "id": "hKacJNcboD_t",
        "outputId": "2dc4a7dc-ec7e-4e08-bb33-dea5246fcd19"
      },
      "execution_count": 15,
      "outputs": [
        {
          "output_type": "stream",
          "name": "stdout",
          "text": [
            "It looks like you are running Gradio on a hosted a Jupyter notebook. For the Gradio app to work, sharing must be enabled. Automatically setting `share=True` (you can turn this off by setting `share=False` in `launch()` explicitly).\n",
            "\n",
            "Colab notebook detected. To show errors in colab notebook, set debug=True in launch()\n",
            "* Running on public URL: https://4e823cca7b66be05b7.gradio.live\n",
            "\n",
            "This share link expires in 1 week. For free permanent hosting and GPU upgrades, run `gradio deploy` from the terminal in the working directory to deploy to Hugging Face Spaces (https://huggingface.co/spaces)\n"
          ]
        },
        {
          "output_type": "display_data",
          "data": {
            "text/plain": [
              "<IPython.core.display.HTML object>"
            ],
            "text/html": [
              "<div><iframe src=\"https://4e823cca7b66be05b7.gradio.live\" width=\"100%\" height=\"500\" allow=\"autoplay; camera; microphone; clipboard-read; clipboard-write;\" frameborder=\"0\" allowfullscreen></iframe></div>"
            ]
          },
          "metadata": {}
        },
        {
          "output_type": "execute_result",
          "data": {
            "text/plain": []
          },
          "metadata": {},
          "execution_count": 15
        }
      ]
    }
  ]
}